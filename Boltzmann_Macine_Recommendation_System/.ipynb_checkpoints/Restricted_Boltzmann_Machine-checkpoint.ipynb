{
 "cells": [
  {
   "cell_type": "code",
   "execution_count": 2,
   "id": "8a00cf16-734a-4848-b493-c72b76bdc1d7",
   "metadata": {},
   "outputs": [],
   "source": [
    "# Here we gonna build 2 Models\n",
    "\n",
    "# First for User like the product or not (\"Yes\" or \"No\")\n",
    "# Second for Find review or rating for the product"
   ]
  },
  {
   "cell_type": "code",
   "execution_count": null,
   "id": "e53b9055-c4bd-4a37-8da4-8fe1fd63fb65",
   "metadata": {},
   "outputs": [],
   "source": []
  }
 ],
 "metadata": {
  "kernelspec": {
   "display_name": "Python 3 (ipykernel)",
   "language": "python",
   "name": "python3"
  },
  "language_info": {
   "codemirror_mode": {
    "name": "ipython",
    "version": 3
   },
   "file_extension": ".py",
   "mimetype": "text/x-python",
   "name": "python",
   "nbconvert_exporter": "python",
   "pygments_lexer": "ipython3",
   "version": "3.12.7"
  }
 },
 "nbformat": 4,
 "nbformat_minor": 5
}
